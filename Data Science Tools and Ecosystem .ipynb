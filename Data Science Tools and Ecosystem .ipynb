{
 "cells": [
  {
   "cell_type": "markdown",
   "id": "b27b05e5",
   "metadata": {},
   "source": [
    "#Data Science Tools and Ecosystem "
   ]
  },
  {
   "cell_type": "markdown",
   "id": "bf385bde",
   "metadata": {},
   "source": [
    "## Introduction\n",
    "\n",
    "Welcome to this guide where we will explore the fascinating world of data science and its tools and ecosystem. In this introduction, we'll provide an overview of the key concepts and themes that we'll be delving into throughout this guide."
   ]
  },
  {
   "cell_type": "markdown",
   "id": "5f92c9f8",
   "metadata": {},
   "source": [
    "Some of the popular languages that Data Scientists use are:\n",
    "1. Python\n",
    "2. R\n",
    "3. Julia"
   ]
  },
  {
   "cell_type": "markdown",
   "id": "ac544c1d",
   "metadata": {},
   "source": [
    "Some of the commonly used libraries used by Data Scientists include:\n",
    "1. NumPy\n",
    "2. Pandas\n",
    "3. PyTorch"
   ]
  },
  {
   "cell_type": "markdown",
   "id": "604bba67",
   "metadata": {},
   "source": [
    "| Data Science Tools   |\n",
    "|----------------------|\n",
    "| Jupyter Notebook     |\n",
    "| RStudio              |\n",
    "| VS Code (with Python)|"
   ]
  },
  {
   "cell_type": "markdown",
   "id": "d603aa50",
   "metadata": {},
   "source": [
    "### Examples of Evaluating Arithmetic Expressions in Python\n",
    "\n",
    "In this section, we'll explore some examples of how to evaluate arithmetic expressions in Python."
   ]
  },
  {
   "cell_type": "markdown",
   "id": "1b13dec7",
   "metadata": {},
   "source": [
    "This a simple arithmetic expression to mutiply then add integers\n",
    " \n",
    "result = (3*4)+5"
   ]
  },
  {
   "cell_type": "markdown",
   "id": "83e1458c",
   "metadata": {},
   "source": [
    "This will convert 200 minutes to hours by diving by 60\n",
    "result = 200 / 60\n"
   ]
  },
  {
   "cell_type": "markdown",
   "id": "ea4ad337",
   "metadata": {},
   "source": [
    "**objectives** \n",
    "- Python\n",
    "- R\n",
    "- Julia\n",
    "- SQL\n",
    "- Scala"
   ]
  },
  {
   "cell_type": "markdown",
   "id": "ba29c02f",
   "metadata": {},
   "source": [
    "## Author\n",
    "Panagiotis Gkolias"
   ]
  },
  {
   "cell_type": "code",
   "execution_count": null,
   "id": "0a000aa5",
   "metadata": {},
   "outputs": [],
   "source": []
  }
 ],
 "metadata": {
  "kernelspec": {
   "display_name": "Python 3 (ipykernel)",
   "language": "python",
   "name": "python3"
  },
  "language_info": {
   "codemirror_mode": {
    "name": "ipython",
    "version": 3
   },
   "file_extension": ".py",
   "mimetype": "text/x-python",
   "name": "python",
   "nbconvert_exporter": "python",
   "pygments_lexer": "ipython3",
   "version": "3.9.13"
  }
 },
 "nbformat": 4,
 "nbformat_minor": 5
}
